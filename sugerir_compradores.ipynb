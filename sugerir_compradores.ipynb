{
  "nbformat": 4,
  "nbformat_minor": 0,
  "metadata": {
    "colab": {
      "provenance": [],
      "authorship_tag": "ABX9TyOjz2k49Du8RilXkZ15fC5f",
      "include_colab_link": true
    },
    "kernelspec": {
      "name": "python3",
      "display_name": "Python 3"
    },
    "language_info": {
      "name": "python"
    }
  },
  "cells": [
    {
      "cell_type": "markdown",
      "metadata": {
        "id": "view-in-github",
        "colab_type": "text"
      },
      "source": [
        "<a href=\"https://colab.research.google.com/github/GilmarDeJesusSantana/imersaoia/blob/main/sugerir_compradores.ipynb\" target=\"_parent\"><img src=\"https://colab.research.google.com/assets/colab-badge.svg\" alt=\"Open In Colab\"/></a>"
      ]
    },
    {
      "cell_type": "markdown",
      "source": [
        "Instalação da biblioteca google-generativeai"
      ],
      "metadata": {
        "id": "Bj3ggbh5l8Oe"
      }
    },
    {
      "cell_type": "code",
      "execution_count": 1,
      "metadata": {
        "id": "0kvdmiUSharb"
      },
      "outputs": [],
      "source": [
        "!pip install -q -U google-generativeai"
      ]
    },
    {
      "cell_type": "markdown",
      "source": [
        "Importando as bibliotecas necessárias e configurando o acesso ao Gemini com sua API_Key"
      ],
      "metadata": {
        "id": "2B5s9PXpmgLu"
      }
    },
    {
      "cell_type": "code",
      "source": [
        "from pathlib import Path\n",
        "import hashlib\n",
        "import google.generativeai as genai\n",
        "from google.colab import userdata\n",
        "key_api = userdata.get('api_iastudio_gil')\n",
        "genai.configure(api_key=key_api)"
      ],
      "metadata": {
        "id": "WN-dGyInl7C4"
      },
      "execution_count": 1,
      "outputs": []
    },
    {
      "cell_type": "markdown",
      "source": [
        "Definição das configurações usadas no Gemini"
      ],
      "metadata": {
        "id": "gS7tq8MVnKfB"
      }
    },
    {
      "cell_type": "code",
      "source": [
        "generation_config = {\n",
        "  \"temperature\": 1,\n",
        "  \"top_p\": 0.95,\n",
        "  \"top_k\": 0,\n",
        "  \"max_output_tokens\": 8192,\n",
        "}\n",
        "\n",
        "safety_settings = [\n",
        "  {\n",
        "    \"category\": \"HARM_CATEGORY_HARASSMENT\",\n",
        "    \"threshold\": \"BLOCK_MEDIUM_AND_ABOVE\"\n",
        "  },\n",
        "  {\n",
        "    \"category\": \"HARM_CATEGORY_HATE_SPEECH\",\n",
        "    \"threshold\": \"BLOCK_MEDIUM_AND_ABOVE\"\n",
        "  },\n",
        "  {\n",
        "    \"category\": \"HARM_CATEGORY_SEXUALLY_EXPLICIT\",\n",
        "    \"threshold\": \"BLOCK_MEDIUM_AND_ABOVE\"\n",
        "  },\n",
        "  {\n",
        "    \"category\": \"HARM_CATEGORY_DANGEROUS_CONTENT\",\n",
        "    \"threshold\": \"BLOCK_MEDIUM_AND_ABOVE\"\n",
        "  },\n",
        "]\n",
        "\n",
        "model = genai.GenerativeModel(model_name=\"gemini-1.5-pro-latest\",\n",
        "                              generation_config=generation_config,\n",
        "                              safety_settings=safety_settings)"
      ],
      "metadata": {
        "id": "cnJ72z8Lm1QN"
      },
      "execution_count": 4,
      "outputs": []
    },
    {
      "cell_type": "markdown",
      "source": [
        "Função para extrair as informações do arquivo PDF."
      ],
      "metadata": {
        "id": "fnN2dc0xnol1"
      }
    },
    {
      "cell_type": "code",
      "source": [
        "def extract_pdf_pages(pathname: str) -> list[str]:\n",
        "  parts = [f\"--- START OF PDF ${pathname} ---\"]\n",
        "  # Add logic to read the PDF and return a list of pages here.\n",
        "  pages = []\n",
        "  for index, page in enumerate(pages):\n",
        "    parts.append(f\"--- PAGE {index} ---\")\n",
        "    parts.append(page)\n",
        "  return parts"
      ],
      "metadata": {
        "id": "14DMXe_xntrd"
      },
      "execution_count": 5,
      "outputs": []
    },
    {
      "cell_type": "markdown",
      "source": [
        "Leitura do conteudo do arquivo CSV e PDF para analisar a correlação e entender as possibilidades de negócio."
      ],
      "metadata": {
        "id": "xs63PU2ZoVnY"
      }
    },
    {
      "cell_type": "code",
      "source": [
        "convo = model.start_chat(history=[\n",
        "  {\n",
        "    \"role\": \"user\",\n",
        "    \"parts\": extract_pdf_pages(\"<path>/document0.pdf\")\n",
        "  },\n",
        "  {\n",
        "    \"role\": \"model\",\n",
        "    \"parts\": [\"```csv\\npolo,rpa,logradouro,bairro,observacao,datainauguracao,latitude,longitude\\nAcademia Recife - Polo Hipódromo,2,Rua Ascenso Ferreira,Hipódromo,Praça do Hipódromo,2015-03-09,-8.031896,-34.8869401\\nAcademia Recife - Polo Torre,4,Rua José de Holanda,Torre,Praça da Torre,2014-01-21,-8.0466068,-34.9137394\\nAcademia Recife - Polo Coque,1,Rua Água Doce,Ilha Joana Bezerra,Praça de Joana Bezerra,2014-10-21,-8.069215,-34.897036\\nAcademia Recife - Polo Varzea,4,Av. Afonso Olindense,Várzea,Praça da Várzea,2015-04-17,-8.0495282,-34.9596545\\nAcademia Recife - Polo Boa Viagem,6,Av. Boa Viagem,Boa Viagem,Segundo Jardim,2015-03-22,-8.1049397,-34.8869953\\nAcademia Recife - Polo Macaxeira,3,Av. Norte Miguel Arraes de Alencar S/N,Macaxeira,Parque Urbano da Macaxeira,2014-07-09,-8.0153181,-34.9322254\\nAcademia Recife - Polo Santana,3,Rua Astério Rufino Alves,Santana,Parque Santana,2014-03-15,-8.0423707,-34.916249\\nAcademia Recife - Polo Santo Amaro,1,Avenida Governador Agamenon Magalhães,Santo Amaro,próximo ao número 20,2014-02-20,-8.039585,-34.8776891\\nAcademia Recife - Polo Lagoa do Araçá,6,Rua Nova Verona S/N,Imbiribeira,Lagoa do Araçá,2013-12-12,-8.0962008,-34.9156977\\nAcademia Recife - Polo Ipsep,6,Avenida Sen. Robert Kennedy,Ipsep,Praça Robert Kennedy,2014-07-31,-8.114475,-34.9196486\\nAcademia Recife - Polo Ibura,6,Avenida Pernambuco S/N,Ibura,Praça da Maria Sampaio Lucena - COHAB,2014-03-30,-8.117451,-34.9468972\\nAcademia Recife - Polo Engenho do Meio,4,Rua Manoel Alves Deus Dará,Engenho do Meio,Praça Doutor Arnaldo Assunção,2014-02-10,-8.0571914,-34.9434783\\nAcademia Recife - Polo Jaqueira,3,Avenida Rui Barbosa s/n,Jaqueira,Parque da Jaqueira,2014-03-29,-8.0370578,-34.905483\\nAcademia Recife - Polo Água Fria,2,Avenida Beberibe,Água Fria,Próximo ao número 3359,2018-01-03,-8.0094149,-34.8892527\\nAcademia Recife - Polo Barro,5,R. Padre Diogo Rodrigues,Barro,próximo ao número 547,2018-06-28,-8.089663,-34.9403429\\nAcademia Recife - Polo Santos Dumont,6,Rua Alm. Nelson Fernandes,Boa Viagem,Centro Esportivo Santos Dumont,2018-01-24,-8.1307901,-34.9099489\\nAcademia Recife - Polo Guabiraba,3,Rua das Flores,Guabiraba,Terminal da Guabiraba próx. ao número 2702,2018-03-26,-7.9932713,-34.9387909\\nAcademia Recife - Polo Casa Amarela,3,Rua Marino Melo Berenger,Casa Amarela,Próximo ao número 5673,2018-07-05,-8.022238,-34.9180816\\nAcademia Recife - Polo Mustardinha,5,Rua Neto Campêlo Júnior,Mustardinha,Praça do ABC,2018-09-04,-8.0730174,-34.9191975\\n```\"]\n",
        "  },\n",
        "  {\n",
        "    \"role\": \"user\",\n",
        "    \"parts\": extract_pdf_pages(\"<path>/document1.pdf\")\n",
        "  },\n",
        "  {\n",
        "    \"role\": \"model\",\n",
        "    \"parts\": [\"## Catálogo Snugg Wear® - Preços\\n\\n**Proteção UV50+**\\n\\n* **Manguito:** R$ 13,00 (P, M, G)\\n* **Manguito com Dedo:** R$ 14,00 (P, M, G)\\n* **Headband:** R$ 7,50 (Tamanho único)\\n* **Pernito Unissex:** R$ 24,00 (P, M, G, GG)\\n* **Balaclava:** R$ 13,00 (Tamanho único)\\n* **Bandana Tubular:** R$ 13,00 (Tamanho único)\\n* **Camiseta Curta:** R$ 30,00 (P, M, G, GG)\\n* **Camiseta Longa Segunda Pele:** R$ 32,00 (P, M, G, GG)\\n* **Camiseta Longa Infantil Segunda Pele:** R$ 27,00 (6 ao 14)\\n* **Bermuda com Bolso Segunda Pele:** R$ 25,00 (P, M, G, GG)\\n* **Bermuda Segunda Pele:** R$ 24,00 (P, M, G, GG)\\n* **Calça Segunda Pele:** R$ 30,00 (P, M, G, GG)\\n\\n**Proteção ao Frio**\\n\\n* **Balaclava Flanelada:** R$ 15,00 (Tamanho único)\\n* **Touca Gola:** R$ 15,00 (Tamanho único)\\n* **Meia Segunda Pele:** R$ 16,00 (P, M, G)\\n* **Camiseta Longa Segunda Pele Flanelada:** R$ 50,00 (P, M, G, GG)\\n* **Camiseta Longa Segunda Pele Flanelada Infantil:** R$ 40,00 (P, M, G, GG)\\n* **Calça Flanelada Segunda Pele:** R$ 45,00 (P, M, G, GG)\\n* **Protetor de Orelha:** R$ 10,50 (Tamanho único)\\n\\n**Linha Esportiva**\\n\\n* **Top Alcinha e Nadador:** R$ 16,00 (P, M, G, GG)\\n* **Top Alcinha e Nadador Cirrê:** R$ 20,00 (P, M, G, GG)\\n* **Calça Legging Cirrê:** R$ 32,00 (P, M, G, GG)\\n* **Shorts Legging Cirrê:** R$ 28,00 (P, M, G, GG)\\n* **Tapa Bumbum:** R$ 14,00 (Tamanho único)\\n* **Camiseta Tule:** R$ 20,00 (P, M, G, GG)\\n\\n**Linha Ciclismo**\\n\\n* **Camiseta Curta de Ciclismo:** R$ 35,00 (P, M, G, GG) - Modelo Masculino e Feminino\\n* **Camiseta Longa de Ciclismo:** R$ 45,00 (P, M, G, GG) - Modelo Masculino e Feminino\\n\\n**Outros**\\n\\n* **Macacão Segunda Pele Motociclismo:** R$ 95,00 (P, M, G, GG, XGG)\\n* **Calção Esportivo:** R$ 27,00 (P, M, G, GG)\\n* **Bermuda 2 em 1:** R$ 33,00 (P, M, G, GG)\\n* **Bermuda Tactel:** R$ 22,00 (P, M, G, GG)\\n* **Bermuda Tactel Feminina:** R$ 22,00 (P, M, G, GG)\\n\\n**Contato**\\n\\n* **Website:** www.snuggwear.com.br\\n* **Email:** contato@snuggwear.com.br\\n* **WhatsApp:** 11 976189944@snuggwear\"]\n",
        "  },\n",
        "  {\n",
        "    \"role\": \"user\",\n",
        "    \"parts\": [\"Qual a probabilidade de negociar os produtos listados com as academias listadas.\\nme ajude a montar um mapa de calor\"]\n",
        "  },\n",
        "  {\n",
        "    \"role\": \"model\",\n",
        "    \"parts\": [\"É difícil determinar a probabilidade exata de negociar os produtos Snugg com as academias de Recife apenas com as informações fornecidas. \\n\\nEssa probabilidade depende de diversos fatores, como:\\n\\n* **Demanda:** As academias e seus clientes demonstram interesse em produtos de proteção solar e frio? Quais as atividades oferecidas (ao ar livre, internas, etc.)?\\n* **Perfil da academia:** Público-alvo (renda, idade, estilo de vida), localização (proximidade com áreas de prática esportiva ao ar livre) e valores da academia (foco em bem-estar, sustentabilidade).\\n* **Estratégia da Snugg:**  A empresa já atua no mercado fitness? Oferece condições especiais para empresas? Tem interesse em expandir para Recife?\\n\\n**Para construir um mapa de calor, precisamos de dados mais específicos, como:**\\n\\n1. **Localização das academias:** Integrar os dados do arquivo \\\"academia-recife.csv\\\" com um mapa.\\n2. **Variáveis de interesse:** Definir quais fatores influenciam a probabilidade de venda (ex: renda média da região, número de clientes da academia, índice UV da região).\\n3. **Graduar as variáveis:**  Criar uma escala numérica para cada variável, representando a intensidade do fator (ex: renda alta = 5, renda baixa = 1).\\n4. **Combinar os dados:**  Cruzar as informações de localização com as variáveis graduadas. \\n5. **Visualizar o mapa de calor:**  Utilizar um software (ex: Google My Maps, QGIS) para plotar os pontos das academias no mapa e aplicar uma escala de cores que represente a probabilidade de venda (ex: verde = alta, vermelho = baixa).\\n\\n**Exemplo Simplificado:**\\n\\nImagine que definimos a variável \\\"Proximidade com áreas ao ar livre\\\" como crucial para a venda de produtos Snugg. Poderíamos criar uma escala:\\n\\n* **0-1 km:** 5 pontos (verde escuro = alta probabilidade)\\n* **1-3 km:** 3 pontos (amarelo = média probabilidade)\\n* **Acima de 3 km:** 1 ponto (vermelho = baixa probabilidade)\\n\\nNo mapa de calor, as academias próximas a parques e áreas abertas teriam cores mais quentes, indicando maior probabilidade de venda.\\n\\n**Recomendações:**\\n\\n* **Pesquisa de mercado:**  É essencial realizar uma pesquisa com as academias para entender seus interesses e necessidades.\\n* **Parcerias:** Buscar academias com valores alinhados à Snugg para ações de marketing conjuntas.\\n* **Análise da concorrência:** Identificar outras empresas que vendem produtos similares e suas estratégias em Recife.\\n\\nCom base nesses dados, o mapa de calor terá maior precisão e será uma ferramenta valiosa para direcionar a estratégia de vendas da Snugg em Recife.\"]\n",
        "  },\n",
        "])\n",
        "convo.send_message(\"YOUR_USER_INPUT\")\n",
        "print(convo.last.text)"
      ],
      "metadata": {
        "colab": {
          "base_uri": "https://localhost:8080/",
          "height": 316
        },
        "id": "-0fK4fH8oUjg",
        "outputId": "3e02f88d-e70a-43c0-8feb-d4bf2768e435"
      },
      "execution_count": 6,
      "outputs": [
        {
          "output_type": "stream",
          "name": "stdout",
          "text": [
            "I need more information to understand your request. Please tell me:\n",
            "\n",
            "* What is it that you want me to do? \n",
            "* What kind of input are you providing? \n",
            "* What kind of output are you expecting? \n",
            "\n",
            "For example, you could say:\n",
            "\n",
            "* \"I want you to translate this text into Spanish: 'YOUR_USER_INPUT'\" \n",
            "* \"I want you to write a poem based on this theme: 'YOUR_USER_INPUT'\" \n",
            "* \"I want you to analyze this data and tell me the average: 'YOUR_USER_INPUT'\"\n",
            "\n",
            "The more specific you are, the better I can assist you. \n",
            "\n"
          ]
        }
      ]
    }
  ]
}